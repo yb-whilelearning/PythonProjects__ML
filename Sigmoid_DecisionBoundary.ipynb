{
  "nbformat": 4,
  "nbformat_minor": 0,
  "metadata": {
    "colab": {
      "provenance": [],
      "authorship_tag": "ABX9TyPBSnkjk3Qkn5ylJukKtZ1m",
      "include_colab_link": true
    },
    "kernelspec": {
      "name": "python3",
      "display_name": "Python 3"
    },
    "language_info": {
      "name": "python"
    }
  },
  "cells": [
    {
      "cell_type": "markdown",
      "metadata": {
        "id": "view-in-github",
        "colab_type": "text"
      },
      "source": [
        "<a href=\"https://colab.research.google.com/github/yb-whilelearning/PythonProjects__ML/blob/main/Sigmoid_DecisionBoundary.ipynb\" target=\"_parent\"><img src=\"https://colab.research.google.com/assets/colab-badge.svg\" alt=\"Open In Colab\"/></a>"
      ]
    },
    {
      "cell_type": "code",
      "execution_count": 5,
      "metadata": {
        "id": "0VDqhqA0PAK4"
      },
      "outputs": [],
      "source": [
        "import numpy as np\n",
        "import matplotlib.pyplot as plt"
      ]
    },
    {
      "cell_type": "markdown",
      "source": [
        "In the case of a single example, 𝑧\n",
        "is scalar.\n",
        "in the case of multiple examples, 𝑧\n",
        "may be a vector consisting of 𝑚\n",
        "values, one for each example.\n",
        "The implementation of the sigmoid function should cover both of these potential input formats.\n",
        "NumPy has a function called exp(), which offers a convenient way to calculate the exponential ( 𝑒𝑧) of all elements in the input array (z).\n",
        "\n",
        "It also works with a single number as an input, as shown below.\n"
      ],
      "metadata": {
        "id": "uVJ_1m3JYb5a"
      }
    },
    {
      "cell_type": "code",
      "source": [
        "# Input is an array.\n",
        "input_array = np.array([1,2,3])\n",
        "exp_array = np.exp(input_array)\n",
        "\n",
        "print(\"Input to exp:\", input_array)\n",
        "print(\"Output of exp:\", exp_array)\n",
        "\n",
        "# Input is a single number\n",
        "input_val = 1\n",
        "exp_val = np.exp(input_val)\n",
        "\n",
        "print(\"Input to exp:\", input_val)\n",
        "print(\"Output of exp:\", exp_val)"
      ],
      "metadata": {
        "id": "ubxFP_71YBFK",
        "colab": {
          "base_uri": "https://localhost:8080/"
        },
        "outputId": "3ccbc69d-f218-4712-8359-8219158cf333"
      },
      "execution_count": 6,
      "outputs": [
        {
          "output_type": "stream",
          "name": "stdout",
          "text": [
            "Input to exp: [1 2 3]\n",
            "Output of exp: [ 2.71828183  7.3890561  20.08553692]\n",
            "Input to exp: 1\n",
            "Output of exp: 2.718281828459045\n"
          ]
        }
      ]
    },
    {
      "cell_type": "markdown",
      "source": [
        "Let us start implementing the sigmoid function directly: But remember we arent doing z= wx+b /Regression yet. This is simple sigmoid (to be edited later)"
      ],
      "metadata": {
        "id": "vqDhoK1uga-E"
      }
    },
    {
      "cell_type": "code",
      "source": [
        "def sigmoid(z):\n",
        "    \"\"\"\n",
        "    Compute the sigmoid of z\n",
        "\n",
        "    Args:\n",
        "        z (ndarray): A scalar, numpy array of any size.\n",
        "\n",
        "    Returns:\n",
        "        g (ndarray): sigmoid(z), with the same shape as z\n",
        "\n",
        "    \"\"\"\n",
        "\n",
        "    g = 1/(1+np.exp(-z))\n",
        "\n",
        "    return g"
      ],
      "metadata": {
        "id": "iuTZVMubgfCk"
      },
      "execution_count": 7,
      "outputs": []
    },
    {
      "cell_type": "markdown",
      "source": [
        "Some terms:\n",
        "np.arange() is a function in NumPy.\n",
        "It creates an array of numbers with evenly spaced values within a specified range.\n",
        "\n",
        "It’s like Python’s built-in range(), but it returns a NumPy array instead of a plain Python list — and it can handle decimal steps too.\n",
        "\n",
        "np.arange() is handy for quickly generating ranges — but for precise decimal spacing, np.linspace() is often better because it includes the end point and avoids rounding issues."
      ],
      "metadata": {
        "id": "sXXs5c1wnvZe"
      }
    },
    {
      "cell_type": "markdown",
      "source": [
        "What does np.set_printoptions(precision=3) do?\n",
        "\n",
        "This tells NumPy:\n",
        "👉 “When you print arrays, show decimal numbers rounded to 3 decimal places.”\n",
        "And why do we need it?\n",
        "By default, NumPy might show lots of decimals — which can clutter your output.\n",
        "This makes printed arrays cleaner and easier to read.\n",
        "\n",
        "What does np.c do?\n",
        "It stacks arrays side-by-side as columns."
      ],
      "metadata": {
        "id": "3ignM9ENevTG"
      }
    },
    {
      "cell_type": "code",
      "source": [
        "# Generate an array of evenly spaced values between -10 and 10\n",
        "z_tmp = np.arange(-10,11)\n",
        "\n",
        "# Use the function implemented above to get the sigmoid values\n",
        "y = sigmoid(z_tmp)\n",
        "\n",
        "# Code for pretty printing the two arrays next to each other\n",
        "np.set_printoptions(precision=3)\n",
        "print(\"Input (z), Output (sigmoid(z))\")\n",
        "print(np.c_[z_tmp, y])"
      ],
      "metadata": {
        "colab": {
          "base_uri": "https://localhost:8080/"
        },
        "id": "nFlH8Ezzj6el",
        "outputId": "37008887-3056-4ed3-ab20-6f9e7c61e0b8"
      },
      "execution_count": 8,
      "outputs": [
        {
          "output_type": "stream",
          "name": "stdout",
          "text": [
            "Input (z), Output (sigmoid(z))\n",
            "[[-1.000e+01  4.540e-05]\n",
            " [-9.000e+00  1.234e-04]\n",
            " [-8.000e+00  3.354e-04]\n",
            " [-7.000e+00  9.111e-04]\n",
            " [-6.000e+00  2.473e-03]\n",
            " [-5.000e+00  6.693e-03]\n",
            " [-4.000e+00  1.799e-02]\n",
            " [-3.000e+00  4.743e-02]\n",
            " [-2.000e+00  1.192e-01]\n",
            " [-1.000e+00  2.689e-01]\n",
            " [ 0.000e+00  5.000e-01]\n",
            " [ 1.000e+00  7.311e-01]\n",
            " [ 2.000e+00  8.808e-01]\n",
            " [ 3.000e+00  9.526e-01]\n",
            " [ 4.000e+00  9.820e-01]\n",
            " [ 5.000e+00  9.933e-01]\n",
            " [ 6.000e+00  9.975e-01]\n",
            " [ 7.000e+00  9.991e-01]\n",
            " [ 8.000e+00  9.997e-01]\n",
            " [ 9.000e+00  9.999e-01]\n",
            " [ 1.000e+01  1.000e+00]]\n"
          ]
        }
      ]
    },
    {
      "cell_type": "code",
      "source": [
        "def draw_vthresh(ax, x=0, color='red', linestyle='--', label='threshold'):\n",
        "    \"\"\"\n",
        "    Draws a vertical line at threshold x on the given Axes.\n",
        "    \"\"\"\n",
        "    ax.axvline(x=x, color=color, linestyle=linestyle)\n",
        "    ax.text(x + 0.2, 0.5, label, color=color)"
      ],
      "metadata": {
        "id": "Y3JJebh3x6PX"
      },
      "execution_count": 14,
      "outputs": []
    },
    {
      "cell_type": "code",
      "source": [
        "fig,ax = plt.subplots(1,1,figsize=(5,3))\n",
        "ax.plot(z_tmp, y, c=\"b\")\n",
        "\n",
        "ax.set_title(\"Sigmoid function\")\n",
        "ax.set_ylabel('sigmoid(z)')\n",
        "ax.set_xlabel('z')\n",
        "draw_vthresh(ax,0)"
      ],
      "metadata": {
        "id": "-cGFDcEyxKx-",
        "colab": {
          "base_uri": "https://localhost:8080/",
          "height": 333
        },
        "outputId": "0aa0f274-3bd6-494d-e805-c21bf41adc0d"
      },
      "execution_count": 15,
      "outputs": [
        {
          "output_type": "display_data",
          "data": {
            "text/plain": [
              "<Figure size 500x300 with 1 Axes>"
            ],
            "image/png": "[encoded data removed]"
          },
          "metadata": {}
        }
      ]
    },
    {
      "cell_type": "markdown",
      "source": [
        "\n",
        "\n",
        "A short note on reshape:\n",
        "-1 tells NumPy: “Figure out this dimension automatically, based on the data length.”\n",
        "Here, you have 6 elements → so -1 becomes 6.\n",
        "\n",
        "1 means: “One column.”\n",
        "\n",
        "Now, we will plot feature scatter plot and create a decision boundary.\n",
        "\n",
        "\n"
      ],
      "metadata": {
        "id": "eF4r1E0kvUTb"
      }
    },
    {
      "cell_type": "code",
      "source": [
        "def plot_data(X, y,ax):\n",
        "    \"\"\"\n",
        "    Plots 2D data with different markers for positive and negative examples.\n",
        "    X : array-like, shape (m, 2) — features\n",
        "    y : array-like, shape (m,) — labels (0 or 1)\n",
        "    \"\"\"\n",
        "    # Find indices of positive and negative examples\n",
        "    pos = y == 1\n",
        "    neg = y == 0\n",
        "\n",
        "    # Use given axis or create a new figure\n",
        "    if ax is None:\n",
        "        fig, ax = plt.subplots(figsize=(8, 6))\n",
        "\n",
        "    ax.plot(X[pos, 0], X[pos, 1], 'k+', label='Positive', markersize=10)\n",
        "    ax.plot(X[neg, 0], X[neg, 1], 'yo', label='Negative', markersize=8)\n",
        "\n",
        "    ax.set_xlabel('Feature 1')\n",
        "    ax.set_ylabel('Feature 2')\n",
        "    ax.legend()\n",
        "    ax.grid(True)\n",
        "    #ax.set_title(title)\n",
        "\n",
        "    # Only show plot if not using subplot\n",
        "    if ax is None:\n",
        "        plt.show()"
      ],
      "metadata": {
        "id": "XJT4clOv8tL-"
      },
      "execution_count": 48,
      "outputs": []
    },
    {
      "cell_type": "code",
      "source": [
        "X = np.array([[0.5, 1.5], [1,1], [1.5, 0.5], [3, 0.5], [2, 2], [1, 2.5]])   #2D Array, 6,2\n",
        "y = np.array([0, 0, 0, 1, 1, 1])\n",
        "\n",
        "# Choose values between 0 and 6\n",
        "x0 = np.arange(0,6)\n",
        "\n",
        "x1 = 3 - x0\n",
        "fig,ax = plt.subplots(1,1,figsize=(5,4))\n",
        "# Plot the decision boundary\n",
        "ax.plot(x0,x1, c=\"b\")\n",
        "ax.axis([0, 4, 0, 3.5])\n",
        "\n",
        "# Fill the region below the line\n",
        "ax.fill_between(x0,x1, alpha=0.2)\n",
        "\n",
        "# Plot the original data\n",
        "plot_data(X,y,ax)\n",
        "ax.set_ylabel(r'$x_1$')\n",
        "ax.set_xlabel(r'$x_0$')\n",
        "plt.show()"
      ],
      "metadata": {
        "colab": {
          "base_uri": "https://localhost:8080/",
          "height": 394
        },
        "id": "gvlLlwW7Bm8z",
        "outputId": "6b86c2c7-7a41-4626-b004-71fba5b9bad4"
      },
      "execution_count": 49,
      "outputs": [
        {
          "output_type": "display_data",
          "data": {
            "text/plain": [
              "<Figure size 500x400 with 1 Axes>"
            ],
            "image/png": "[encoded data removed]"
          },
          "metadata": {}
        }
      ]
    }
  ]
}