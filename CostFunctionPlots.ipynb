{
  "nbformat": 4,
  "nbformat_minor": 0,
  "metadata": {
    "colab": {
      "provenance": [],
      "authorship_tag": "ABX9TyPbwlI5bgPawq1vdfspzrCc",
      "include_colab_link": true
    },
    "kernelspec": {
      "name": "python3",
      "display_name": "Python 3"
    },
    "language_info": {
      "name": "python"
    }
  },
  "cells": [
    {
      "cell_type": "markdown",
      "metadata": {
        "id": "view-in-github",
        "colab_type": "text"
      },
      "source": [
        "<a href=\"https://colab.research.google.com/github/yb-whilelearning/PythonProjects__ML/blob/main/CostFunctionPlots.ipynb\" target=\"_parent\"><img src=\"https://colab.research.google.com/assets/colab-badge.svg\" alt=\"Open In Colab\"/></a>"
      ]
    },
    {
      "cell_type": "markdown",
      "source": [],
      "metadata": {
        "id": "ilPmWSbdalMe"
      }
    },
    {
      "cell_type": "code",
      "source": [
        "import numpy as np\n",
        "import matplotlib.pyplot as plt\n",
        "\n",
        "x_train = np.array([1.0, 2.0, 1.5, 2.25, 2.5, 3.0])           #(size in 1000 square feet)\n",
        "y_train = np.array([300.0, 500.0, 325.0, 547.0, 568.0, 400.0])           #(price in 1000s of dollars)\n"
      ],
      "metadata": {
        "id": "1jjVaEPFseXB"
      },
      "execution_count": null,
      "outputs": []
    }
  ]
}