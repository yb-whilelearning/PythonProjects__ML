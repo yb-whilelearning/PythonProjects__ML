{
  "nbformat": 4,
  "nbformat_minor": 0,
  "metadata": {
    "colab": {
      "provenance": [],
      "authorship_tag": "ABX9TyP78wbxQDzNX76UKMfKfUcE",
      "include_colab_link": true
    },
    "kernelspec": {
      "name": "python3",
      "display_name": "Python 3"
    },
    "language_info": {
      "name": "python"
    }
  },
  "cells": [
    {
      "cell_type": "markdown",
      "metadata": {
        "id": "view-in-github",
        "colab_type": "text"
      },
      "source": [
        "<a href=\"https://colab.research.google.com/github/yb-whilelearning/PythonProjects__ML/blob/main/CostFunction_LinearReg.ipynb\" target=\"_parent\"><img src=\"https://colab.research.google.com/assets/colab-badge.svg\" alt=\"Open In Colab\"/></a>"
      ]
    },
    {
      "cell_type": "markdown",
      "source": [],
      "metadata": {
        "id": "ilPmWSbdalMe"
      }
    },
    {
      "cell_type": "code",
      "source": [
        "import numpy as np\n",
        "import matplotlib.pyplot as plt\n",
        "\n",
        "x_train = np.array([1.0, 2.0, 1.5, 2.25, 2.5, 3.0])           #(size in 1000 square feet)\n",
        "y_train = np.array([300.0, 500.0, 325.0, 547.0, 568.0, 400.0])           #(price in 1000s of dollars)\n"
      ],
      "metadata": {
        "id": "1jjVaEPFseXB"
      },
      "execution_count": null,
      "outputs": []
    },
    {
      "cell_type": "markdown",
      "source": [
        "A cost function is a measure of how well our model is predicting the target of something.\n",
        "The code below calculates cost by looping over each example. In each loop:\n",
        "\n",
        "    f_wb, a prediction is calculated\n",
        "    the difference between the target and the prediction is calculated and squared.\n",
        "    this is added to the total cost.\n",
        "\n"
      ],
      "metadata": {
        "id": "bJVCx6f4tywH"
      }
    },
    {
      "cell_type": "code",
      "source": [
        "plt.scatter(x_train, y_train, marker = '*', c='b')\n",
        "plt.ylabel('Price (in 1000s of dollars)')\n",
        "plt.xlabel('Size (1000 sqft)')\n",
        "plt.show()"
      ],
      "metadata": {
        "id": "Zxt44puDvXpo"
      },
      "execution_count": null,
      "outputs": []
    },
    {
      "cell_type": "code",
      "source": [
        "def compute_cost(x, y, w, b):\n",
        "    \"\"\"\n",
        "    Computes the cost function for linear regression.\n",
        "\n",
        "    Args:\n",
        "      x (ndarray (m,)): Data, m examples\n",
        "      y (ndarray (m,)): target values\n",
        "      w,b (scalar)    : model parameters\n",
        "\n",
        "    Returns\n",
        "        total_cost (float): The cost of using w,b as the parameters for linear regression\n",
        "               to fit the data points in x and y\n",
        "    \"\"\"\n",
        "    # number of training examples\n",
        "    m = x.shape[0]\n",
        "\n",
        "    cost_sum = 0\n",
        "    for i in range(m):\n",
        "        f_wb = w * x[i] + b\n",
        "        cost = (f_wb - y[i]) ** 2\n",
        "        cost_sum = cost_sum + cost\n",
        "    total_cost = (1 / (2 * m)) * cost_sum\n",
        "\n",
        "    return total_cost"
      ],
      "metadata": {
        "id": "jN7wRF6St_fa"
      },
      "execution_count": null,
      "outputs": []
    },
    {
      "cell_type": "markdown",
      "source": [
        " Your goal is to find a model 𝑓𝑤,𝑏(𝑥)=𝑤𝑥+𝑏, with parameters 𝑤,𝑏, which will accurately predict house values given an input 𝑥. The cost is a measure of how accurate the model is on the training data"
      ],
      "metadata": {
        "id": "GzhOj_yZxhqM"
      }
    },
    {
      "cell_type": "code",
      "source": [
        "w_vals = np.linspace(0, 300, 100)\n",
        "b = 100  # keeping b fixed\n",
        "\n",
        "J_w = [compute_cost(x_train, y_train, w, b) for w in w_vals]  #this is actually pretty cool huh?\n",
        "\n",
        "plt.plot(J_w, w_vals, c='r',label='Cost function')\n",
        "plt.ylabel('Cost function')\n",
        "plt.xlabel('w')\n",
        "plt.show()\n",
        "\n",
        "\n"
      ],
      "metadata": {
        "id": "sUtcMJWfxs5k"
      },
      "execution_count": null,
      "outputs": []
    }
  ]
}